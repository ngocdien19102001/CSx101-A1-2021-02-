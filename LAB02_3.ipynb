{
  "nbformat": 4,
  "nbformat_minor": 0,
  "metadata": {
    "colab": {
      "name": "LAB02-3",
      "provenance": [],
      "collapsed_sections": [],
      "authorship_tag": "ABX9TyNf92ZIlEXKsPhNqAkVG8kQ",
      "include_colab_link": true
    },
    "kernelspec": {
      "name": "python3",
      "display_name": "Python 3"
    },
    "language_info": {
      "name": "python"
    }
  },
  "cells": [
    {
      "cell_type": "markdown",
      "metadata": {
        "id": "view-in-github",
        "colab_type": "text"
      },
      "source": [
        "<a href=\"https://colab.research.google.com/github/ngocdien19102001/CSx101-A1-2021-02-/blob/main/LAB02_3.ipynb\" target=\"_parent\"><img src=\"https://colab.research.google.com/assets/colab-badge.svg\" alt=\"Open In Colab\"/></a>"
      ]
    },
    {
      "cell_type": "markdown",
      "metadata": {
        "id": "36QhbDrrc7ix"
      },
      "source": [
        "CSx101 - TƯ DUY LẬP TRÌNH VỚI PYTHON\n",
        "Lớp CSx101-A1"
      ]
    },
    {
      "cell_type": "markdown",
      "metadata": {
        "id": "6Rri1cGac8_h"
      },
      "source": [
        "Số lớn nhất - nhỏ nhất của dãy số\n",
        "Viết hàm trả về số lớn nhất, và số nhỏ nhất của một dãy số"
      ]
    },
    {
      "cell_type": "code",
      "metadata": {
        "colab": {
          "base_uri": "https://localhost:8080/"
        },
        "id": "vsIvUATGc-3K",
        "outputId": "78ef68e6-709f-4db8-9994-2deba01f6679"
      },
      "source": [
        "def findMinMax(arr):\n",
        "  min = arr[0]\n",
        "  max = arr[0]\n",
        "  for i in range(len(arr)):\n",
        "    if (arr[i] < min):\n",
        "      min = arr[i]\n",
        "    if (arr[i] > max):\n",
        "      max = arr[i]\n",
        "  return min, max\n",
        "\n",
        "arr = [2, 3, 4, 6]\n",
        "\n",
        "min, max = findMinMax(arr)\n",
        "print(min)\n",
        "print(max)\n",
        "\n",
        "# Kết quả "
      ],
      "execution_count": 12,
      "outputs": [
        {
          "output_type": "stream",
          "name": "stdout",
          "text": [
            "2\n",
            "6\n"
          ]
        }
      ]
    },
    {
      "cell_type": "markdown",
      "metadata": {
        "id": "dfaBJS28e3VC"
      },
      "source": [
        "Hoán đổi vị trí phần tử đầu và phần cuối của một dãy số\n",
        "Viết hoán đổi phần tử đầu và phần tử cuối của một dãy số\n",
        "\n",
        "Ví dụ:\n",
        "\n",
        "Input: 1 2 3 4 5\n",
        "Output: 5 2 3 4 1"
      ]
    },
    {
      "cell_type": "code",
      "metadata": {
        "id": "w0vcTPrZe7Xg"
      },
      "source": [
        "arr = list(map(int, input().split()))\n",
        "def swapList(arr):\n",
        "  n = len(arr) - 1\n",
        "  temp = arr[0]\n",
        "  arr[0] = arr[n]\n",
        "  arr[n] = temp\n",
        "  return arr\n",
        "print(swapList(arr))"
      ],
      "execution_count": null,
      "outputs": []
    },
    {
      "cell_type": "markdown",
      "metadata": {
        "id": "pJF9CIEMjfqg"
      },
      "source": [
        "Kiểm tra một phần tử có trong dãy số\n",
        "Viết hàm kiểm tra một phần tử có trong dãy số cho trước hay không\n",
        "\n",
        "Ví dụ:\n",
        "\n",
        "Input: dãy số 1, 2, 3, 4, 5 và phần tử cần kiểm tra là 9\n",
        "Output: False"
      ]
    },
    {
      "cell_type": "code",
      "metadata": {
        "id": "aYNJWMtPjhQn"
      },
      "source": [
        "arr = list(map(int, input().split()))\n",
        "x = input('Check: ')\n",
        "def checkNumberExist(x, arr):\n",
        "  for i in range(len(arr)):\n",
        "    if (int (arr[i]) != int (x)):\n",
        "      return False\n",
        "    else:\n",
        "      return True\n",
        "      break\n",
        "\n",
        "print(checkNumberExist(x, arr))"
      ],
      "execution_count": null,
      "outputs": []
    },
    {
      "cell_type": "markdown",
      "metadata": {
        "id": "S3wYGdHMkuJ_"
      },
      "source": [
        "Đảo ngược dãy số\n",
        "Viết hàm đảo ngược một dãy số\n",
        "\n",
        "Ví dụ:\n",
        "\n",
        "Input: 1, 2, 3, 4, 5\n",
        "Output: 5, 4, 3, 2, 1"
      ]
    },
    {
      "cell_type": "code",
      "metadata": {
        "id": "8FyM15JDkuzp"
      },
      "source": [
        "arr = list(map(int, input().split()))\n",
        "\n",
        "def reverseList(arr):\n",
        "  x = 0\n",
        "  y = len(arr) - 1\n",
        "  for i in range(len(arr)):\n",
        "    temp = arr[x]\n",
        "    arr[x] = arr[y]\n",
        "    arr[y] = temp\n",
        "    x += 1\n",
        "    y -= 1\n",
        "    if (x == y):\n",
        "      break\n",
        "  return arr\n",
        "print(reverseList(arr))"
      ],
      "execution_count": null,
      "outputs": []
    },
    {
      "cell_type": "markdown",
      "metadata": {
        "id": "BzZn7Glel-Bw"
      },
      "source": [
        "Số nguyên tố của dãy số\n",
        "Viết hàm trả về các số nguyên tố của một dãy số\n",
        "\n",
        "Ví dụ:\n",
        "\n",
        "Input: 3, 7, 11, 12, 15\n",
        "Output: 3, 7, 11"
      ]
    },
    {
      "cell_type": "code",
      "metadata": {
        "id": "ay616VTal-wO"
      },
      "source": [
        "arr = list(map(int, input().split()))\n",
        "\n",
        "def checkPrimeNumbers(x):\n",
        "  if (x < 2):\n",
        "    return False\n",
        "  elif (x == 2 or x == 3):\n",
        "    return True\n",
        "  elif (x % 2 == 0):\n",
        "    return False\n",
        "  else:\n",
        "    for i in range(3, x, 2):\n",
        "      if (x % i == 0):\n",
        "        return False\n",
        "      else:\n",
        "        return True\n",
        "\n",
        "def findPrimeNumbers(arr):\n",
        "  for i in range(len(arr)):\n",
        "    if checkPrimeNumbers(arr[i]):\n",
        "      print(arr[i])\n",
        "findPrimeNumbers(arr)"
      ],
      "execution_count": null,
      "outputs": []
    },
    {
      "cell_type": "markdown",
      "metadata": {
        "id": "FXmc54z6ofpA"
      },
      "source": [
        "Đếm số lần xuất hiện của một phần tử trong dãy số\n",
        "Viết hàm đếm số lần xuất hiện của một phần tử trong dãy số\n",
        "\n",
        "Ví dụ:\n",
        "\n",
        "Input: 1, 2, 4, 2, 6, 2, 5, 2 và 2\n",
        "Output: 4 (số 2 xuất hiện 4 lần trong dãy số trên)"
      ]
    },
    {
      "cell_type": "code",
      "metadata": {
        "id": "-0Ok08ROogKm"
      },
      "source": [
        "arr = list(map(int, input().split()))\n",
        "x = input('Count: ')\n",
        "\n",
        "def countOccurences(x, arr):\n",
        "  count = 0\n",
        "  for i in range(len(arr)):\n",
        "    if int (arr[i]) == int (x):\n",
        "      count += 1\n",
        "  return count\n",
        "\n",
        "print(countOccurences(x, arr))"
      ],
      "execution_count": null,
      "outputs": []
    },
    {
      "cell_type": "markdown",
      "metadata": {
        "id": "GafAiZ3P04Fp"
      },
      "source": [
        "Loại bỏ các phần tử trùng\n",
        "Viết hàm loại bỏ các phần tử trùng của một dãy cho trước. Dãy trả về bao gồm các phần tử chỉ xuất hiện một lần\n",
        "\n",
        "Input: 10, 20, 30, 20, 20, 30, 40, 50, -20, 60, 60, -20, -20\n",
        "Output: 10, 20, 30, 40, 50, -20, 60"
      ]
    },
    {
      "cell_type": "code",
      "metadata": {
        "id": "wKawNVxG04hg"
      },
      "source": [
        "arr = list(map(int, input().split()))\n",
        "\n",
        "def removeDuplicates(arr):\n",
        "  arr = list(set(arr))\n",
        "  return arr\n",
        "\n",
        "print(removeDuplicates(arr))"
      ],
      "execution_count": null,
      "outputs": []
    },
    {
      "cell_type": "markdown",
      "metadata": {
        "id": "VS3XxN7-2YrY"
      },
      "source": [
        "Tìm N số lớn nhất trong dãy\n",
        "Viết hàm trả về N số lớn nhất trong dãy cho trước\n",
        "\n",
        "Input: 4, 5, 1, 2, 9 và N=2\n",
        "Output: 9, 5"
      ]
    },
    {
      "cell_type": "code",
      "metadata": {
        "id": "eVLSG6A02Zgf"
      },
      "source": [
        "arr = list(map(int, input().split()))\n",
        "N = int (input('Enter N: '))\n",
        "\n",
        "def findLargest(arr):\n",
        "  max = arr[0]\n",
        "  for i in range(len(arr)):\n",
        "    if (arr[i] > max):\n",
        "      max = arr[i]\n",
        "  arr.remove(max)\n",
        "  return max\n",
        "\n",
        "def findNLargestElements(N, arr):\n",
        "  for i in range(N):\n",
        "    print(findLargest(arr))\n",
        "        \n",
        "findNLargestElements(N, arr)"
      ],
      "execution_count": null,
      "outputs": []
    },
    {
      "cell_type": "markdown",
      "metadata": {
        "id": "0o5pft4B-UaN"
      },
      "source": [
        "Tính tổng tích luỹ\n",
        "Viết hàm tính tổng tích luỹ của một dãy.\n",
        "\n",
        "Phần tử thứ  i  của dãy đầu ra bằng tổng các phần tử  i,i−1,i−2,...  của dãy đầu vào\n",
        "\n",
        "Input: 10, 20, 30, 40, 50\n",
        "Output: 10, 30, 60, 100, 150"
      ]
    },
    {
      "cell_type": "code",
      "metadata": {
        "id": "CM0ydspb-WS_"
      },
      "source": [
        "arr = list(map(int, input().split()))\n",
        "\n",
        "def calcCumulativeSum(arr):\n",
        "  for i in range(len(arr) - 1, 0, -1):\n",
        "    arr[i] = int (arr[i]*(arr[i] + arr[0]) / 2)\n",
        "  return arr\n",
        "\n",
        "print(calcCumulativeSum(arr))"
      ],
      "execution_count": null,
      "outputs": []
    },
    {
      "cell_type": "markdown",
      "metadata": {
        "id": "vjJEKO-3GjdK"
      },
      "source": [
        "Xoá một số phần tử của dãy\n",
        "Viết hàm xoá một số phần tử của dãy\n",
        "\n",
        "Input: 12, 15, 3, 10 và 12 và 3 là các phần tử cần xoá\n",
        "Output: 15, 10"
      ]
    },
    {
      "cell_type": "code",
      "metadata": {
        "id": "_-auv3hSGkCp"
      },
      "source": [
        "arr = list(map(int, input().split()))\n",
        "del_arr = list(map(int, input().split()))\n",
        "\n",
        "def removeElemetns(arr, del_arr):\n",
        "  for i in del_arr:\n",
        "    if i in arr:\n",
        "      arr.remove(i)\n",
        "  return arr\n",
        "  \n",
        "print(removeElemetns(arr, del_arr))"
      ],
      "execution_count": null,
      "outputs": []
    }
  ]
}