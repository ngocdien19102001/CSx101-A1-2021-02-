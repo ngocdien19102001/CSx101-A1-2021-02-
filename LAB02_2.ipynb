{
  "nbformat": 4,
  "nbformat_minor": 0,
  "metadata": {
    "colab": {
      "name": "LAB02-2",
      "provenance": [],
      "collapsed_sections": [],
      "authorship_tag": "ABX9TyNK+C5t+mPTntyfdBSZ0sJB",
      "include_colab_link": true
    },
    "kernelspec": {
      "name": "python3",
      "display_name": "Python 3"
    },
    "language_info": {
      "name": "python"
    }
  },
  "cells": [
    {
      "cell_type": "markdown",
      "metadata": {
        "id": "view-in-github",
        "colab_type": "text"
      },
      "source": [
        "<a href=\"https://colab.research.google.com/github/ngocdien19102001/CSx101-A1-2021-02-/blob/main/LAB02_2.ipynb\" target=\"_parent\"><img src=\"https://colab.research.google.com/assets/colab-badge.svg\" alt=\"Open In Colab\"/></a>"
      ]
    },
    {
      "cell_type": "markdown",
      "metadata": {
        "id": "38mk_D7c0Qu1"
      },
      "source": [
        "CSx101 - TƯ DUY LẬP TRÌNH VỚI PYTHON\n",
        "Lớp CSx101-A1"
      ]
    },
    {
      "cell_type": "markdown",
      "metadata": {
        "id": "w-v9vX0X0T7N"
      },
      "source": [
        "Số lớn nhất\n",
        "Viết hàm tính số lớn nhất của 2 hai số"
      ]
    },
    {
      "cell_type": "code",
      "metadata": {
        "id": "lONfMCgi0Ubl"
      },
      "source": [
        "def calMax(a, b):\n",
        "  if (a > b):\n",
        "    return a\n",
        "  else:\n",
        "    return b\n",
        "  \n",
        "a = 5\n",
        "b = 5.01\n",
        "\n",
        "max2 = calMax(a, b)\n",
        "print(max2)\n",
        "\n",
        "# Kết quả 5.01"
      ],
      "execution_count": null,
      "outputs": []
    },
    {
      "cell_type": "markdown",
      "metadata": {
        "id": "Z_5xHpuA0mSU"
      },
      "source": [
        "Giai thừa\n",
        "Viết hàm tính giai thừa của  n \n",
        "\n",
        "n!=n∗(n−1)∗(n−2)∗...∗1"
      ]
    },
    {
      "cell_type": "code",
      "metadata": {
        "id": "2xVgSxGa0oE1"
      },
      "source": [
        "def calFactorial(n):\n",
        "  x = 1\n",
        "  for i in range(n):\n",
        "    x *= n\n",
        "    n -= 1\n",
        "  return x\n",
        "\n",
        "n = 5\n",
        "result = calFactorial(n)\n",
        "print(result)\n",
        "\n",
        "# Kết quả 120"
      ],
      "execution_count": null,
      "outputs": []
    },
    {
      "cell_type": "markdown",
      "metadata": {
        "id": "YXfTtsxy1Jcu"
      },
      "source": [
        "Số Amstrong\n",
        "Viết hàm trả về số  x  có phải là số Amstrong hay không.\n",
        "\n",
        "Số nguyên dương có  n  chữ số là số Armstrong bậc  n  nếu:\n",
        "\n",
        "abcd...=pow(a,n)+pow(b,n)+pow(c,n)+pow(d,n)+.... \n",
        "\n",
        "Ví dụ: 153 là số Amstrong vì  n=3  và\n",
        "\n",
        "1∗1∗1+5∗5∗5+3∗3∗3=153"
      ]
    },
    {
      "cell_type": "code",
      "metadata": {
        "colab": {
          "base_uri": "https://localhost:8080/"
        },
        "id": "k5KZ2UL61KxN",
        "outputId": "01296817-bf36-406a-fd18-fee3c0a254b7"
      },
      "source": [
        "count_x = 0\n",
        "x = 153\n",
        "sum = x\n",
        "def count(x, count_x):\n",
        "  for i in range(x):\n",
        "    if (x == 0):\n",
        "      break\n",
        "    else:\n",
        "      x //= 10\n",
        "      count_x += 1\n",
        "  return count_x\n",
        "\n",
        "def checkAmstrongNumber(x, sum):\n",
        "  value = 0\n",
        "  for i in range(x):\n",
        "    value = value + (x % 10)**count(x, count_x)\n",
        "    x //= 10\n",
        "    if (value == sum):\n",
        "      return value\n",
        "      break\n",
        "result = checkAmstrongNumber(x, sum)\n",
        "print(result)\n",
        "\n",
        "# Kết quả True"
      ],
      "execution_count": 29,
      "outputs": [
        {
          "output_type": "stream",
          "name": "stdout",
          "text": [
            "153\n"
          ]
        }
      ]
    },
    {
      "cell_type": "markdown",
      "metadata": {
        "id": "TYC7O0A89BWT"
      },
      "source": [
        "Số nguyên tố\n",
        "Viết hàm kiểm tra một số nguyên dương  n  có phải là số nguyên tố hay không.\n",
        "\n",
        "Số nguyên tố là số lớn hơn 1 và không có ước số nào ngoài 1 và chính nó. Ví dụ: {2, 3, 5, 7, 11, ….}."
      ]
    },
    {
      "cell_type": "code",
      "metadata": {
        "id": "ckKRcyLq9ILy"
      },
      "source": [
        "def checkPrimeNumber(n):\n",
        "  if (n < 2):\n",
        "    print('Khong la SNT')\n",
        "  elif (n == 2):\n",
        "    return n\n",
        "  else:\n",
        "    for i in range(3, n, 2):\n",
        "      if (n % i == 0):\n",
        "        print('Khong la SNT')\n",
        "      else:\n",
        "        return n\n",
        "\n",
        "n = 7\n",
        "result = checkPrimeNumber(n)\n",
        "print(result) \n",
        "\n",
        "# Kết quả True"
      ],
      "execution_count": null,
      "outputs": []
    },
    {
      "cell_type": "markdown",
      "metadata": {
        "id": "qSL0qmXt-WgD"
      },
      "source": [
        "Số Fibonaci\n",
        "Viết hàm tính số Fibonaci  Fn \n",
        "\n",
        "Công thức tính số Fibonaci  Fn=Fn−1+Fn−2 \n",
        "\n",
        "F0=0 \n",
        "\n",
        "F1=1"
      ]
    },
    {
      "cell_type": "code",
      "metadata": {
        "id": "hIGRwZbv-XGa"
      },
      "source": [
        "def calFibonaci(n):\n",
        "  f0 = 0\n",
        "  f1 = 1\n",
        "  fn = 0\n",
        "  for i in range(1, n):\n",
        "    fn = f1 + f0\n",
        "    f0 = f1\n",
        "    f1 = fn\n",
        "    if (fn == n):\n",
        "      break\n",
        "  return n\n",
        "\n",
        "n = 89\n",
        "result = calFibonaci(n)\n",
        "print(result) \n",
        "\n",
        "# Kết quả 1"
      ],
      "execution_count": null,
      "outputs": []
    },
    {
      "cell_type": "markdown",
      "metadata": {
        "id": "tjuSqug6NDUa"
      },
      "source": [
        "Kiểm tra một số có phải là số Fibonaci hay không\n",
        "Viết hàm kiểm tra một số  n  có phải là số Fibonaci hay không.\n",
        "\n",
        "Các số sau là số Fibonaci: 0, 1, 1, 2, 3, 5, 8, 13, 21, 34, 55, 89, 144,\n",
        "\n",
        "Gợi ý: A number is Fibonacci if and only if one or both of  (5∗n2+4)  or  (5∗n2–4)  is a perfect square"
      ]
    },
    {
      "cell_type": "code",
      "metadata": {
        "id": "CZ1clWMKND6N"
      },
      "source": [
        "import math\n",
        "def calFibonaci(n):\n",
        "  a = math.sqrt(5*pow(n, 2) + 4)\n",
        "  b = math.sqrt(5*pow(n, 2) - 4)\n",
        "  if ((a == int (a)) or (b == int (b))):\n",
        "    return n\n",
        "\n",
        "n = 55\n",
        "result = calFibonaci(n)\n",
        "print(result) \n",
        "\n",
        "# Kết quả 1"
      ],
      "execution_count": null,
      "outputs": []
    },
    {
      "cell_type": "markdown",
      "metadata": {
        "id": "V_tkC7XOcG5j"
      },
      "source": [
        "Tổng  12+22+32+…+n2 \n",
        "Viết hàm tính tổng trên"
      ]
    },
    {
      "cell_type": "code",
      "metadata": {
        "id": "4-Ih9xACcIeb"
      },
      "source": [
        "def calSquareSum(n):\n",
        "  sum = 0\n",
        "  for i in range(1, n + 1):\n",
        "    sum = sum + i**2\n",
        "  return sum\n",
        "\n",
        "n = 3\n",
        "result = calSquareSum(n)\n",
        "print(result) \n",
        "\n",
        "# Kết quả 5"
      ],
      "execution_count": null,
      "outputs": []
    }
  ]
}